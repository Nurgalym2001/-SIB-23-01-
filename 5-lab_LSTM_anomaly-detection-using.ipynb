{
 "cells": [
  {
   "cell_type": "markdown",
   "id": "70dccfbc",
   "metadata": {},
   "source": [
    "## Этот код реализует обнаружение аномалий с использованием автоэнкодеров LSTM (Long Short-Term Memory) в TensorFlow. (Орындаған:Амангелд Н.Б.)"
   ]
  },
  {
   "cell_type": "markdown",
   "id": "698063b6",
   "metadata": {
    "papermill": {
     "duration": 0.007969,
     "end_time": "2023-04-26T05:44:42.617786",
     "exception": false,
     "start_time": "2023-04-26T05:44:42.609817",
     "status": "completed"
    },
    "tags": []
   },
   "source": [
    "### **Загрузка библиотек**"
   ]
  },
  {
   "cell_type": "code",
   "execution_count": 1,
   "id": "8a9708c0",
   "metadata": {
    "_cell_guid": "b1076dfc-b9ad-4769-8c92-a6c4dae69d19",
    "_uuid": "8f2839f25d086af736a60e9eeb907d3b93b6e0e5",
    "execution": {
     "iopub.execute_input": "2023-04-26T05:44:42.632962Z",
     "iopub.status.busy": "2023-04-26T05:44:42.632443Z",
     "iopub.status.idle": "2023-04-26T05:44:50.301915Z",
     "shell.execute_reply": "2023-04-26T05:44:50.299254Z"
    },
    "papermill": {
     "duration": 7.679745,
     "end_time": "2023-04-26T05:44:50.304294",
     "exception": false,
     "start_time": "2023-04-26T05:44:42.624549",
     "status": "completed"
    },
    "tags": []
   },
   "outputs": [
    {
     "name": "stdout",
     "output_type": "stream",
     "text": [
      "Tensorflow version:  2.11.0\n"
     ]
    }
   ],
   "source": [
    "from tensorflow import keras\n",
    "from sklearn.preprocessing import StandardScaler\n",
    "import plotly.graph_objects as go\n",
    "import numpy as np\n",
    "from tensorflow.keras.models import Sequential\n",
    "from tensorflow.keras.layers import Dense, LSTM, Dropout, RepeatVector, TimeDistributed \n",
    "import tensorflow as tf\n",
    "import pandas as pd\n",
    "import seaborn as sns\n",
    "import matplotlib.pyplot as plt\n",
    "np.random.seed(1)\n",
    "tf.random.set_seed(1)\n",
    "print('Tensorflow version: ', tf.__version__)"
   ]
  },
  {
   "cell_type": "markdown",
   "id": "06c0e73c",
   "metadata": {
    "papermill": {
     "duration": 0.006484,
     "end_time": "2023-04-26T05:44:50.317752",
     "exception": false,
     "start_time": "2023-04-26T05:44:50.311268",
     "status": "completed"
    },
    "tags": []
   },
   "source": [
    "#### В этой задании рассматриваются:\n",
    "\n",
    "* Обнаружение аномалий\n",
    "* Автоэнкодеры LSTM\n",
    "* Автоэнкодер LSTM в Tensorflow\n",
    "* Поиск аномалий"
   ]
  },
  {
   "cell_type": "markdown",
   "id": "87240ed1",
   "metadata": {
    "papermill": {
     "duration": 0.006305,
     "end_time": "2023-04-26T05:44:50.330710",
     "exception": false,
     "start_time": "2023-04-26T05:44:50.324405",
     "status": "completed"
    },
    "tags": []
   },
   "source": [
    "**Что такое обнаружение аномалий?**\n",
    "\n",
    "Обнаружение аномалий - это процесс выявления необычных событий или точек данных.\n",
    "* Он имеет множество применений, таких как обнаружение мошеннических действий в банковской сфере, обнаружение опухолей при медицинской визуализации и выявление ошибок в письменном тексте\n",
    "\n",
    "**Методы:**\n",
    "* Множество контролируемых и неконтролируемых подходов. Некоторые из подходов включают в себя:\n",
    "  * Одноклассовые SVM, байесовские сети, кластерный анализ и (конечно же) Нейронные сети."
   ]
  },
  {
   "cell_type": "markdown",
   "id": "697aad95",
   "metadata": {
    "papermill": {
     "duration": 0.006339,
     "end_time": "2023-04-26T05:44:50.343636",
     "exception": false,
     "start_time": "2023-04-26T05:44:50.337297",
     "status": "completed"
    },
    "tags": []
   },
   "source": [
    "**Автоэнкодеры**\n",
    "\n",
    "Это метод обучения без контроля, который обучается с использованием методов контролируемого обучения. Во время обучения автоэнкодер корректирует свои значения и смещения, чтобы минимизировать ошибку восстановления, используя такие методы, как обратное распространение и градиентный спуск. Сводя к минимуму\n",
    "ошибку восстановления, автоэнкодер учится эффективно кодировать и декодировать входные данные:\n",
    "\n",
    "* Создает сжатое представление входных данных\n",
    "* Это кодирование отражает наиболее важные характеристики данных и позволяет модели генерировать выходные данные, аналогичные исходным входным данным.\n",
    "* Другими словами, автоэнкодер обучается восстанавливать входные данные из их сжатого представления.\n",
    "* Это приложения для сжатия изображений, обнаружения аномалий и изучения особенностей."
   ]
  },
  {
   "cell_type": "markdown",
   "id": "48c5adfd",
   "metadata": {
    "papermill": {
     "duration": 0.006371,
     "end_time": "2023-04-26T05:44:50.356552",
     "exception": false,
     "start_time": "2023-04-26T05:44:50.350181",
     "status": "completed"
    },
    "tags": []
   },
   "source": [
    "**Импорт данных**"
   ]
  },
  {
   "cell_type": "code",
   "execution_count": 2,
   "id": "6ca06dff",
   "metadata": {
    "execution": {
     "iopub.execute_input": "2023-04-26T05:44:50.372548Z",
     "iopub.status.busy": "2023-04-26T05:44:50.371005Z",
     "iopub.status.idle": "2023-04-26T05:44:50.920614Z",
     "shell.execute_reply": "2023-04-26T05:44:50.919403Z"
    },
    "papermill": {
     "duration": 0.560041,
     "end_time": "2023-04-26T05:44:50.923141",
     "exception": false,
     "start_time": "2023-04-26T05:44:50.363100",
     "status": "completed"
    },
    "tags": []
   },
   "outputs": [
    {
     "data": {
      "text/html": [
       "<div>\n",
       "<style scoped>\n",
       "    .dataframe tbody tr th:only-of-type {\n",
       "        vertical-align: middle;\n",
       "    }\n",
       "\n",
       "    .dataframe tbody tr th {\n",
       "        vertical-align: top;\n",
       "    }\n",
       "\n",
       "    .dataframe thead th {\n",
       "        text-align: right;\n",
       "    }\n",
       "</style>\n",
       "<table border=\"1\" class=\"dataframe\">\n",
       "  <thead>\n",
       "    <tr style=\"text-align: right;\">\n",
       "      <th></th>\n",
       "      <th>close</th>\n",
       "    </tr>\n",
       "    <tr>\n",
       "      <th>date</th>\n",
       "      <th></th>\n",
       "    </tr>\n",
       "  </thead>\n",
       "  <tbody>\n",
       "    <tr>\n",
       "      <th>1986-01-02</th>\n",
       "      <td>209.59</td>\n",
       "    </tr>\n",
       "    <tr>\n",
       "      <th>1986-01-03</th>\n",
       "      <td>210.88</td>\n",
       "    </tr>\n",
       "    <tr>\n",
       "      <th>1986-01-06</th>\n",
       "      <td>210.65</td>\n",
       "    </tr>\n",
       "    <tr>\n",
       "      <th>1986-01-07</th>\n",
       "      <td>213.80</td>\n",
       "    </tr>\n",
       "    <tr>\n",
       "      <th>1986-01-08</th>\n",
       "      <td>207.97</td>\n",
       "    </tr>\n",
       "  </tbody>\n",
       "</table>\n",
       "</div>"
      ],
      "text/plain": [
       "             close\n",
       "date              \n",
       "1986-01-02  209.59\n",
       "1986-01-03  210.88\n",
       "1986-01-06  210.65\n",
       "1986-01-07  213.80\n",
       "1986-01-08  207.97"
      ]
     },
     "execution_count": 2,
     "metadata": {},
     "output_type": "execute_result"
    }
   ],
   "source": [
    "df = pd.read_csv('sp500-daily-19862018/spx.csv', parse_dates=['date'], index_col='date') \n",
    "\n",
    "df.head()"
   ]
  },
  {
   "cell_type": "markdown",
   "id": "be097021",
   "metadata": {
    "papermill": {
     "duration": 0.006644,
     "end_time": "2023-04-26T05:44:50.937771",
     "exception": false,
     "start_time": "2023-04-26T05:44:50.931127",
     "status": "completed"
    },
    "tags": []
   },
   "source": [
    "### **Визуализировали временные ряды**"
   ]
  },
  {
   "cell_type": "code",
   "execution_count": 3,
   "id": "d802d705",
   "metadata": {
    "execution": {
     "iopub.execute_input": "2023-04-26T05:44:50.952790Z",
     "iopub.status.busy": "2023-04-26T05:44:50.952211Z",
     "iopub.status.idle": "2023-04-26T05:44:51.253257Z",
     "shell.execute_reply": "2023-04-26T05:44:51.252281Z"
    },
    "papermill": {
     "duration": 0.311125,
     "end_time": "2023-04-26T05:44:51.255583",
     "exception": false,
     "start_time": "2023-04-26T05:44:50.944458",
     "status": "completed"
    },
    "tags": []
   },
   "outputs": [
    {
     "data": {
      "text/plain": [
       "<matplotlib.legend.Legend at 0x779f36776c90>"
      ]
     },
     "execution_count": 3,
     "metadata": {},
     "output_type": "execute_result"
    },
    {
     "data": {
      "image/png": "[encoded data removed]",
      "text/plain": [
       "<Figure size 640x480 with 1 Axes>"
      ]
     },
     "metadata": {},
     "output_type": "display_data"
    }
   ],
   "source": [
    "plt.plot(df, label='close price') \n",
    "plt.legend()"
   ]
  },
  {
   "cell_type": "markdown",
   "id": "1052e296",
   "metadata": {
    "papermill": {
     "duration": 0.007247,
     "end_time": "2023-04-26T05:44:51.270337",
     "exception": false,
     "start_time": "2023-04-26T05:44:51.263090",
     "status": "completed"
    },
    "tags": []
   },
   "source": [
    "За последние годы наметилась многообещающая тенденция, которая может представлять хорошую инвестиционную возможность. Возможно, стоит рассмотреть возможность инвестирования в эту тенденцию. Однако важно определить наилучшее время для покупки или продажи. Кроме того, важно выявлять аномалии или внезапные изменения как можно раньше."
   ]
  },
  {
   "cell_type": "markdown",
   "id": "f2182269",
   "metadata": {
    "papermill": {
     "duration": 0.007031,
     "end_time": "2023-04-26T05:44:51.284670",
     "exception": false,
     "start_time": "2023-04-26T05:44:51.277639",
     "status": "completed"
    },
    "tags": []
   },
   "source": [
    "### **Предварительная обработка данных**"
   ]
  },
  {
   "cell_type": "markdown",
   "id": "759b72bc",
   "metadata": {
    "papermill": {
     "duration": 0.007052,
     "end_time": "2023-04-26T05:44:51.299385",
     "exception": false,
     "start_time": "2023-04-26T05:44:51.292333",
     "status": "completed"
    },
    "tags": []
   },
   "source": [
    "Шаги:\n",
    " 1. используем 95% данных для обучения модели\n",
    " 2. Изменим масштаб данных, используя данные обучения и тестовые данные\n",
    " 3. разделим данные на подпоследовательности (последовательности с историческими данными за 30 дней:"
   ]
  },
  {
   "cell_type": "code",
   "execution_count": 4,
   "id": "1361f3b0",
   "metadata": {
    "execution": {
     "iopub.execute_input": "2023-04-26T05:44:51.315823Z",
     "iopub.status.busy": "2023-04-26T05:44:51.314932Z",
     "iopub.status.idle": "2023-04-26T05:44:51.332393Z",
     "shell.execute_reply": "2023-04-26T05:44:51.331044Z"
    },
    "papermill": {
     "duration": 0.028064,
     "end_time": "2023-04-26T05:44:51.334630",
     "exception": false,
     "start_time": "2023-04-26T05:44:51.306566",
     "status": "completed"
    },
    "tags": []
   },
   "outputs": [
    {
     "name": "stdout",
     "output_type": "stream",
     "text": [
      "(7782, 1) (410, 1)\n"
     ]
    },
    {
     "name": "stderr",
     "output_type": "stream",
     "text": [
      "/opt/conda/lib/python3.7/site-packages/ipykernel_launcher.py:7: SettingWithCopyWarning: \n",
      "A value is trying to be set on a copy of a slice from a DataFrame.\n",
      "Try using .loc[row_indexer,col_indexer] = value instead\n",
      "\n",
      "See the caveats in the documentation: https://pandas.pydata.org/pandas-docs/stable/user_guide/indexing.html#returning-a-view-versus-a-copy\n",
      "  import sys\n",
      "/opt/conda/lib/python3.7/site-packages/ipykernel_launcher.py:8: SettingWithCopyWarning: \n",
      "A value is trying to be set on a copy of a slice from a DataFrame.\n",
      "Try using .loc[row_indexer,col_indexer] = value instead\n",
      "\n",
      "See the caveats in the documentation: https://pandas.pydata.org/pandas-docs/stable/user_guide/indexing.html#returning-a-view-versus-a-copy\n",
      "  \n"
     ]
    }
   ],
   "source": [
    "train_size = int(len(df) * 0.95)\n",
    "test_size = len(df) - train_size\n",
    "train, test = df.iloc[0:train_size], df.iloc[train_size:len(df)] \n",
    "print(train.shape, test.shape)\n",
    "scaler = StandardScaler()\n",
    "scaler = scaler.fit(train[['close']])\n",
    "train['close'] = scaler.transform(train[['close']]) \n",
    "test['close'] = scaler.transform(test[['close']])"
   ]
  },
  {
   "cell_type": "code",
   "execution_count": 5,
   "id": "f90530ad",
   "metadata": {
    "execution": {
     "iopub.execute_input": "2023-04-26T05:44:51.351231Z",
     "iopub.status.busy": "2023-04-26T05:44:51.350632Z",
     "iopub.status.idle": "2023-04-26T05:44:51.356943Z",
     "shell.execute_reply": "2023-04-26T05:44:51.355968Z"
    },
    "papermill": {
     "duration": 0.017,
     "end_time": "2023-04-26T05:44:51.359071",
     "exception": false,
     "start_time": "2023-04-26T05:44:51.342071",
     "status": "completed"
    },
    "tags": []
   },
   "outputs": [],
   "source": [
    "def create_seq(X, y, time_steps=1): \n",
    "    Xs, ys = [], []\n",
    "    for i in range(len(X) - time_steps):\n",
    "        v = X.iloc[i:(i + time_steps)].values \n",
    "        Xs.append(v)\n",
    "        ys.append(y.iloc[i + time_steps])\n",
    "    return np.array(Xs), np.array(ys)"
   ]
  },
  {
   "cell_type": "code",
   "execution_count": 6,
   "id": "6d41abea",
   "metadata": {
    "execution": {
     "iopub.execute_input": "2023-04-26T05:44:51.375667Z",
     "iopub.status.busy": "2023-04-26T05:44:51.374835Z",
     "iopub.status.idle": "2023-04-26T05:44:51.765365Z",
     "shell.execute_reply": "2023-04-26T05:44:51.764127Z"
    },
    "papermill": {
     "duration": 0.401778,
     "end_time": "2023-04-26T05:44:51.768264",
     "exception": false,
     "start_time": "2023-04-26T05:44:51.366486",
     "status": "completed"
    },
    "tags": []
   },
   "outputs": [
    {
     "name": "stdout",
     "output_type": "stream",
     "text": [
      "(7752, 30, 1)\n",
      "(380, 30, 1)\n"
     ]
    }
   ],
   "source": [
    "TIME_STEPS = 30\n",
    "# изменить форму на [samples, time_steps, n_features] \n",
    "X_train, y_train = create_seq(train[['close']], train.close, TIME_STEPS)\n",
    "X_test, y_test = create_seq(test[['close']], test.close, TIME_STEPS)\n",
    "\n",
    "print(X_train.shape)\n",
    "print(X_test.shape)"
   ]
  },
  {
   "cell_type": "markdown",
   "id": "2e4c64ad",
   "metadata": {
    "papermill": {
     "duration": 0.007412,
     "end_time": "2023-04-26T05:44:51.783285",
     "exception": false,
     "start_time": "2023-04-26T05:44:51.775873",
     "status": "completed"
    },
    "tags": []
   },
   "source": [
    "### **Моделирование**"
   ]
  },
  {
   "cell_type": "code",
   "execution_count": 7,
   "id": "c461d254",
   "metadata": {
    "execution": {
     "iopub.execute_input": "2023-04-26T05:44:51.799815Z",
     "iopub.status.busy": "2023-04-26T05:44:51.799473Z",
     "iopub.status.idle": "2023-04-26T05:44:55.085805Z",
     "shell.execute_reply": "2023-04-26T05:44:55.084786Z"
    },
    "papermill": {
     "duration": 3.297756,
     "end_time": "2023-04-26T05:44:55.088481",
     "exception": false,
     "start_time": "2023-04-26T05:44:51.790725",
     "status": "completed"
    },
    "tags": []
   },
   "outputs": [],
   "source": [
    "model = keras.Sequential() \n",
    "model.add(keras.layers.LSTM(units=64,input_shape=(X_train.shape[1], X_train.shape[2])))\n",
    "model.add(keras.layers.Dropout(rate=0.2)) \n",
    "model.add(keras.layers.RepeatVector(n=X_train.shape[1])) \n",
    "model.add(keras.layers.LSTM(units=64, return_sequences=True)) \n",
    "model.add(keras.layers.Dropout(rate=0.2))\n",
    "model.add(keras.layers.TimeDistributed( keras.layers.Dense(units=X_train.shape[2])))\n",
    "\n",
    "model.compile(loss='mae', optimizer='adam')"
   ]
  },
  {
   "cell_type": "code",
   "execution_count": 8,
   "id": "e3969e39",
   "metadata": {
    "execution": {
     "iopub.execute_input": "2023-04-26T05:44:55.107439Z",
     "iopub.status.busy": "2023-04-26T05:44:55.106390Z",
     "iopub.status.idle": "2023-04-26T05:44:55.131427Z",
     "shell.execute_reply": "2023-04-26T05:44:55.130529Z"
    },
    "papermill": {
     "duration": 0.050078,
     "end_time": "2023-04-26T05:44:55.147584",
     "exception": false,
     "start_time": "2023-04-26T05:44:55.097506",
     "status": "completed"
    },
    "tags": []
   },
   "outputs": [
    {
     "name": "stdout",
     "output_type": "stream",
     "text": [
      "Model: \"sequential\"\n",
      "_________________________________________________________________\n",
      " Layer (type)                Output Shape              Param #   \n",
      "=================================================================\n",
      " lstm (LSTM)                 (None, 64)                16896     \n",
      "                                                                 \n",
      " dropout (Dropout)           (None, 64)                0         \n",
      "                                                                 \n",
      " repeat_vector (RepeatVector  (None, 30, 64)           0         \n",
      " )                                                               \n",
      "                                                                 \n",
      " lstm_1 (LSTM)               (None, 30, 64)            33024     \n",
      "                                                                 \n",
      " dropout_1 (Dropout)         (None, 30, 64)            0         \n",
      "                                                                 \n",
      " time_distributed (TimeDistr  (None, 30, 1)            65        \n",
      " ibuted)                                                         \n",
      "                                                                 \n",
      "=================================================================\n",
      "Total params: 49,985\n",
      "Trainable params: 49,985\n",
      "Non-trainable params: 0\n",
      "_________________________________________________________________\n"
     ]
    }
   ],
   "source": [
    "model.summary()"
   ]
  },
  {
   "cell_type": "markdown",
   "id": "530b49ad",
   "metadata": {
    "papermill": {
     "duration": 0.009076,
     "end_time": "2023-04-26T05:44:55.165859",
     "exception": false,
     "start_time": "2023-04-26T05:44:55.156783",
     "status": "completed"
    },
    "tags": []
   },
   "source": [
    "* * Слой Repeat Vector дублирует входные данные n раз,\n",
    "* Установка значения return_sequences=True в слое LSTM возвращает последовательность. \n",
    "* * Слой Time Distributed создает вектор с длиной, равной количеству выходных данных предыдущего слоя. \n",
    "* Объединив эти слои, мы можем создать автоэнкодер LSTM, готовый к обучению.\n",
    "\n",
    "Процесс обучения аналогичен процессу обучения в обычной модели LSTM. Наконец, мы добавили распределенный по времени (плотный(X_train.shape[2])) слой в конце сети, чтобы получить выходные данные, где X_train.shape[2] представляет количество объектов во входных данных"
   ]
  },
  {
   "cell_type": "markdown",
   "id": "cc00c24f",
   "metadata": {
    "papermill": {
     "duration": 0.008583,
     "end_time": "2023-04-26T05:44:55.182974",
     "exception": false,
     "start_time": "2023-04-26T05:44:55.174391",
     "status": "completed"
    },
    "tags": []
   },
   "source": [
    "### ** Обучение Модели**"
   ]
  },
  {
   "cell_type": "code",
   "execution_count": 9,
   "id": "d34a7876",
   "metadata": {
    "execution": {
     "iopub.execute_input": "2023-04-26T05:44:55.203891Z",
     "iopub.status.busy": "2023-04-26T05:44:55.203501Z",
     "iopub.status.idle": "2023-04-26T05:45:18.439257Z",
     "shell.execute_reply": "2023-04-26T05:45:18.438166Z"
    },
    "papermill": {
     "duration": 23.250096,
     "end_time": "2023-04-26T05:45:18.442092",
     "exception": false,
     "start_time": "2023-04-26T05:44:55.191996",
     "status": "completed"
    },
    "tags": []
   },
   "outputs": [
    {
     "name": "stdout",
     "output_type": "stream",
     "text": [
      "Epoch 1/10\n",
      "218/218 [==============================] - 10s 12ms/step - loss: 0.1674 - val_loss: 0.1913\n",
      "Epoch 2/10\n",
      "218/218 [==============================] - 1s 6ms/step - loss: 0.1037 - val_loss: 0.1569\n",
      "Epoch 3/10\n",
      "218/218 [==============================] - 1s 6ms/step - loss: 0.0984 - val_loss: 0.1926\n",
      "Epoch 4/10\n",
      "218/218 [==============================] - 1s 6ms/step - loss: 0.0999 - val_loss: 0.2006\n",
      "Epoch 5/10\n",
      "218/218 [==============================] - 1s 6ms/step - loss: 0.1065 - val_loss: 0.2770\n",
      "Epoch 6/10\n",
      "218/218 [==============================] - 1s 6ms/step - loss: 0.1164 - val_loss: 0.2205\n",
      "Epoch 7/10\n",
      "218/218 [==============================] - 1s 6ms/step - loss: 0.0915 - val_loss: 0.3286\n",
      "Epoch 8/10\n",
      "218/218 [==============================] - 1s 7ms/step - loss: 0.1275 - val_loss: 0.1865\n",
      "Epoch 9/10\n",
      "218/218 [==============================] - 1s 6ms/step - loss: 0.1092 - val_loss: 0.1533\n",
      "Epoch 10/10\n",
      "218/218 [==============================] - 1s 6ms/step - loss: 0.1179 - val_loss: 0.1415\n"
     ]
    }
   ],
   "source": [
    "history = model.fit( X_train, y_train, epochs=10, batch_size=32, \n",
    "                    validation_split=0.1, shuffle=False)"
   ]
  },
  {
   "cell_type": "markdown",
   "id": "eedd8c83",
   "metadata": {
    "papermill": {
     "duration": 0.022409,
     "end_time": "2023-04-26T05:45:18.487862",
     "exception": false,
     "start_time": "2023-04-26T05:45:18.465453",
     "status": "completed"
    },
    "tags": []
   },
   "source": [
    "### **Оценка**"
   ]
  },
  {
   "cell_type": "code",
   "execution_count": 10,
   "id": "f497e8ec",
   "metadata": {
    "execution": {
     "iopub.execute_input": "2023-04-26T05:45:18.534303Z",
     "iopub.status.busy": "2023-04-26T05:45:18.533927Z",
     "iopub.status.idle": "2023-04-26T05:45:18.751316Z",
     "shell.execute_reply": "2023-04-26T05:45:18.750302Z"
    },
    "papermill": {
     "duration": 0.243286,
     "end_time": "2023-04-26T05:45:18.753575",
     "exception": false,
     "start_time": "2023-04-26T05:45:18.510289",
     "status": "completed"
    },
    "tags": []
   },
   "outputs": [
    {
     "data": {
      "text/plain": [
       "<matplotlib.legend.Legend at 0x779eb0189b10>"
      ]
     },
     "execution_count": 10,
     "metadata": {},
     "output_type": "execute_result"
    },
    {
     "data": {
      "image/png": "[encoded data removed]",
      "text/plain": [
       "<Figure size 640x480 with 1 Axes>"
      ]
     },
     "metadata": {},
     "output_type": "display_data"
    }
   ],
   "source": [
    "plt.plot(history.history['loss'], label='Training loss') \n",
    "plt.plot(history.history['val_loss'], label='Validation loss') \n",
    "plt.legend()"
   ]
  },
  {
   "cell_type": "markdown",
   "id": "b11e5c3a",
   "metadata": {
    "papermill": {
     "duration": 0.022939,
     "end_time": "2023-04-26T05:45:18.799834",
     "exception": false,
     "start_time": "2023-04-26T05:45:18.776895",
     "status": "completed"
    },
    "tags": []
   },
   "source": [
    "#### В конце обучения модели потери при проверке увеличились. Чтобы избежать этого, можно было бы использовать обратные вызовы, такие как ранняя остановка."
   ]
  },
  {
   "cell_type": "code",
   "execution_count": 11,
   "id": "e9bfdc67",
   "metadata": {
    "execution": {
     "iopub.execute_input": "2023-04-26T05:45:18.847044Z",
     "iopub.status.busy": "2023-04-26T05:45:18.846703Z",
     "iopub.status.idle": "2023-04-26T05:45:18.956007Z",
     "shell.execute_reply": "2023-04-26T05:45:18.955056Z"
    },
    "papermill": {
     "duration": 0.135454,
     "end_time": "2023-04-26T05:45:18.958204",
     "exception": false,
     "start_time": "2023-04-26T05:45:18.822750",
     "status": "completed"
    },
    "tags": []
   },
   "outputs": [
    {
     "name": "stdout",
     "output_type": "stream",
     "text": [
      "12/12 [==============================] - 0s 3ms/step - loss: 0.6093\n"
     ]
    },
    {
     "data": {
      "text/plain": [
       "0.6093162894248962"
      ]
     },
     "execution_count": 11,
     "metadata": {},
     "output_type": "execute_result"
    }
   ],
   "source": [
    "model.evaluate(X_test, y_test)"
   ]
  },
  {
   "cell_type": "markdown",
   "id": "511b0d6c",
   "metadata": {
    "papermill": {
     "duration": 0.023065,
     "end_time": "2023-04-26T05:45:19.004823",
     "exception": false,
     "start_time": "2023-04-26T05:45:18.981758",
     "status": "completed"
    },
    "tags": []
   },
   "source": [
    "#### Выходные данные показывают, что процесс оценки проводился на 12 партиях, и средняя потеря в тестовом наборе составила 0,7052039504051208\n",
    "\n",
    "#### Значение 0,7052039504051208, выведенное после пакетного вывода, является окончательным значением потерь, возвращаемым функцией evaluate. Это означает, что модель работает хорошо с точки зрения обнаружения аномалий в тестовых данных. Меньшее значение потерь указывает на более высокую производительность."
   ]
  },
  {
   "cell_type": "markdown",
   "id": "3dbe3044",
   "metadata": {
    "papermill": {
     "duration": 0.023103,
     "end_time": "2023-04-26T05:45:19.051467",
     "exception": false,
     "start_time": "2023-04-26T05:45:19.028364",
     "status": "completed"
    },
    "tags": []
   },
   "source": [
    "### **Обнаружение аномалий**"
   ]
  },
  {
   "cell_type": "code",
   "execution_count": 12,
   "id": "475360ae",
   "metadata": {
    "execution": {
     "iopub.execute_input": "2023-04-26T05:45:19.099520Z",
     "iopub.status.busy": "2023-04-26T05:45:19.099139Z",
     "iopub.status.idle": "2023-04-26T05:45:21.038918Z",
     "shell.execute_reply": "2023-04-26T05:45:21.037777Z"
    },
    "papermill": {
     "duration": 1.967104,
     "end_time": "2023-04-26T05:45:21.041972",
     "exception": false,
     "start_time": "2023-04-26T05:45:19.074868",
     "status": "completed"
    },
    "tags": []
   },
   "outputs": [
    {
     "name": "stdout",
     "output_type": "stream",
     "text": [
      "243/243 [==============================] - 1s 3ms/step\n"
     ]
    }
   ],
   "source": [
    "X_train_pred = model.predict(X_train)\n",
    "train_mae_loss = np.mean(np.abs(X_train_pred - X_train), axis=1)"
   ]
  },
  {
   "cell_type": "code",
   "execution_count": 13,
   "id": "e3425140",
   "metadata": {
    "execution": {
     "iopub.execute_input": "2023-04-26T05:45:21.092820Z",
     "iopub.status.busy": "2023-04-26T05:45:21.092205Z",
     "iopub.status.idle": "2023-04-26T05:45:21.421265Z",
     "shell.execute_reply": "2023-04-26T05:45:21.420318Z"
    },
    "papermill": {
     "duration": 0.356834,
     "end_time": "2023-04-26T05:45:21.423797",
     "exception": false,
     "start_time": "2023-04-26T05:45:21.066963",
     "status": "completed"
    },
    "tags": []
   },
   "outputs": [
    {
     "name": "stderr",
     "output_type": "stream",
     "text": [
      "/opt/conda/lib/python3.7/site-packages/ipykernel_launcher.py:1: UserWarning: \n",
      "\n",
      "`distplot` is a deprecated function and will be removed in seaborn v0.14.0.\n",
      "\n",
      "Please adapt your code to use either `displot` (a figure-level function with\n",
      "similar flexibility) or `histplot` (an axes-level function for histograms).\n",
      "\n",
      "For a guide to updating your code to use the new functions, please see\n",
      "https://gist.github.com/mwaskom/de44147ed2974457ad6372750bbe5751\n",
      "\n",
      "  \"\"\"Entry point for launching an IPython kernel.\n"
     ]
    },
    {
     "data": {
      "text/plain": [
       "<AxesSubplot:ylabel='Density'>"
      ]
     },
     "execution_count": 13,
     "metadata": {},
     "output_type": "execute_result"
    },
    {
     "data": {
      "image/png": "[encoded data removed]",
      "text/plain": [
       "<Figure size 640x480 with 1 Axes>"
      ]
     },
     "metadata": {},
     "output_type": "display_data"
    }
   ],
   "source": [
    "sns.distplot(train_mae_loss, bins=50, kde=True)"
   ]
  },
  {
   "cell_type": "markdown",
   "id": "c7c70292",
   "metadata": {
    "papermill": {
     "duration": 0.024466,
     "end_time": "2023-04-26T05:45:21.474502",
     "exception": false,
     "start_time": "2023-04-26T05:45:21.450036",
     "status": "completed"
    },
    "tags": []
   },
   "source": [
    "### Выберим пороговое значение 0,8, так как потери не намного превышают это значение. Когда ошибка превысит это значение, мы объявим этот пример аномалией"
   ]
  },
  {
   "cell_type": "code",
   "execution_count": 14,
   "id": "a24197f2",
   "metadata": {
    "execution": {
     "iopub.execute_input": "2023-04-26T05:45:21.525314Z",
     "iopub.status.busy": "2023-04-26T05:45:21.524948Z",
     "iopub.status.idle": "2023-04-26T05:45:21.644335Z",
     "shell.execute_reply": "2023-04-26T05:45:21.643293Z"
    },
    "papermill": {
     "duration": 0.147529,
     "end_time": "2023-04-26T05:45:21.646675",
     "exception": false,
     "start_time": "2023-04-26T05:45:21.499146",
     "status": "completed"
    },
    "tags": []
   },
   "outputs": [
    {
     "name": "stdout",
     "output_type": "stream",
     "text": [
      "12/12 [==============================] - 0s 3ms/step\n"
     ]
    }
   ],
   "source": [
    "THRESHOLD = 0.8\n",
    "X_test_pred = model.predict(X_test)\n",
    "test_mae_loss = np.mean(np.abs(X_test_pred - X_test), axis=1)"
   ]
  },
  {
   "cell_type": "code",
   "execution_count": 15,
   "id": "9f6cf6cd",
   "metadata": {
    "execution": {
     "iopub.execute_input": "2023-04-26T05:45:21.697852Z",
     "iopub.status.busy": "2023-04-26T05:45:21.697535Z",
     "iopub.status.idle": "2023-04-26T05:45:21.710321Z",
     "shell.execute_reply": "2023-04-26T05:45:21.709220Z"
    },
    "papermill": {
     "duration": 0.041042,
     "end_time": "2023-04-26T05:45:21.712528",
     "exception": false,
     "start_time": "2023-04-26T05:45:21.671486",
     "status": "completed"
    },
    "tags": []
   },
   "outputs": [],
   "source": [
    "test_score_df = pd.DataFrame(index=test[TIME_STEPS:].index) \n",
    "test_score_df['loss'] = test_mae_loss\n",
    "test_score_df['threshold'] = THRESHOLD\n",
    "test_score_df['anomaly'] = test_score_df.loss > test_score_df.threshold \n",
    "test_score_df['close'] = test[TIME_STEPS:].close"
   ]
  },
  {
   "cell_type": "code",
   "execution_count": 16,
   "id": "5f802247",
   "metadata": {
    "execution": {
     "iopub.execute_input": "2023-04-26T05:45:21.764139Z",
     "iopub.status.busy": "2023-04-26T05:45:21.763150Z",
     "iopub.status.idle": "2023-04-26T05:45:22.056697Z",
     "shell.execute_reply": "2023-04-26T05:45:22.055493Z"
    },
    "papermill": {
     "duration": 0.322005,
     "end_time": "2023-04-26T05:45:22.059135",
     "exception": false,
     "start_time": "2023-04-26T05:45:21.737130",
     "status": "completed"
    },
    "tags": []
   },
   "outputs": [
    {
     "data": {
      "text/plain": [
       "<matplotlib.legend.Legend at 0x779e5cd004d0>"
      ]
     },
     "execution_count": 16,
     "metadata": {},
     "output_type": "execute_result"
    },
    {
     "data": {
      "image/png": "[encoded data removed]",
      "text/plain": [
       "<Figure size 640x480 with 1 Axes>"
      ]
     },
     "metadata": {},
     "output_type": "display_data"
    }
   ],
   "source": [
    "plt.plot(test_score_df.index, test_score_df.loss, label='loss') \n",
    "plt.plot(test_score_df.index, test_score_df.threshold, label='threshold') \n",
    "plt.xticks(rotation=25)\n",
    "plt.legend()"
   ]
  },
  {
   "cell_type": "markdown",
   "id": "56db2ee6",
   "metadata": {
    "papermill": {
     "duration": 0.024761,
     "end_time": "2023-04-26T05:45:22.110306",
     "exception": false,
     "start_time": "2023-04-26T05:45:22.085545",
     "status": "completed"
    },
    "tags": []
   },
   "source": [
    "#### Похоже, что мы эффективно применяем пороговое значение для отфильтровывания экстремальных значений."
   ]
  },
  {
   "cell_type": "code",
   "execution_count": 17,
   "id": "f343ff18",
   "metadata": {
    "execution": {
     "iopub.execute_input": "2023-04-26T05:45:22.163249Z",
     "iopub.status.busy": "2023-04-26T05:45:22.162883Z",
     "iopub.status.idle": "2023-04-26T05:45:22.177074Z",
     "shell.execute_reply": "2023-04-26T05:45:22.176058Z"
    },
    "papermill": {
     "duration": 0.043054,
     "end_time": "2023-04-26T05:45:22.179620",
     "exception": false,
     "start_time": "2023-04-26T05:45:22.136566",
     "status": "completed"
    },
    "tags": []
   },
   "outputs": [
    {
     "data": {
      "text/html": [
       "<div>\n",
       "<style scoped>\n",
       "    .dataframe tbody tr th:only-of-type {\n",
       "        vertical-align: middle;\n",
       "    }\n",
       "\n",
       "    .dataframe tbody tr th {\n",
       "        vertical-align: top;\n",
       "    }\n",
       "\n",
       "    .dataframe thead th {\n",
       "        text-align: right;\n",
       "    }\n",
       "</style>\n",
       "<table border=\"1\" class=\"dataframe\">\n",
       "  <thead>\n",
       "    <tr style=\"text-align: right;\">\n",
       "      <th></th>\n",
       "      <th>loss</th>\n",
       "      <th>threshold</th>\n",
       "      <th>anomaly</th>\n",
       "      <th>close</th>\n",
       "    </tr>\n",
       "    <tr>\n",
       "      <th>date</th>\n",
       "      <th></th>\n",
       "      <th></th>\n",
       "      <th></th>\n",
       "      <th></th>\n",
       "    </tr>\n",
       "  </thead>\n",
       "  <tbody>\n",
       "    <tr>\n",
       "      <th>2018-01-31</th>\n",
       "      <td>0.812048</td>\n",
       "      <td>0.8</td>\n",
       "      <td>True</td>\n",
       "      <td>3.435135</td>\n",
       "    </tr>\n",
       "    <tr>\n",
       "      <th>2018-02-01</th>\n",
       "      <td>0.825223</td>\n",
       "      <td>0.8</td>\n",
       "      <td>True</td>\n",
       "      <td>3.431698</td>\n",
       "    </tr>\n",
       "    <tr>\n",
       "      <th>2018-02-02</th>\n",
       "      <td>0.836376</td>\n",
       "      <td>0.8</td>\n",
       "      <td>True</td>\n",
       "      <td>3.319282</td>\n",
       "    </tr>\n",
       "    <tr>\n",
       "      <th>2018-02-05</th>\n",
       "      <td>0.854394</td>\n",
       "      <td>0.8</td>\n",
       "      <td>True</td>\n",
       "      <td>3.106679</td>\n",
       "    </tr>\n",
       "    <tr>\n",
       "      <th>2018-02-06</th>\n",
       "      <td>0.885132</td>\n",
       "      <td>0.8</td>\n",
       "      <td>True</td>\n",
       "      <td>3.193456</td>\n",
       "    </tr>\n",
       "  </tbody>\n",
       "</table>\n",
       "</div>"
      ],
      "text/plain": [
       "                loss  threshold  anomaly     close\n",
       "date                                              \n",
       "2018-01-31  0.812048        0.8     True  3.435135\n",
       "2018-02-01  0.825223        0.8     True  3.431698\n",
       "2018-02-02  0.836376        0.8     True  3.319282\n",
       "2018-02-05  0.854394        0.8     True  3.106679\n",
       "2018-02-06  0.885132        0.8     True  3.193456"
      ]
     },
     "execution_count": 17,
     "metadata": {},
     "output_type": "execute_result"
    }
   ],
   "source": [
    "anomalies = test_score_df[test_score_df.anomaly == True] \n",
    "anomalies.head()"
   ]
  },
  {
   "cell_type": "markdown",
   "id": "4e772338",
   "metadata": {
    "papermill": {
     "duration": 0.025108,
     "end_time": "2023-04-26T05:45:22.230445",
     "exception": false,
     "start_time": "2023-04-26T05:45:22.205337",
     "status": "completed"
    },
    "tags": []
   },
   "source": [
    "#### **Построение графика окончательных результатов**"
   ]
  },
  {
   "cell_type": "code",
   "execution_count": 18,
   "id": "3c68240e",
   "metadata": {
    "execution": {
     "iopub.execute_input": "2023-04-26T05:45:22.282586Z",
     "iopub.status.busy": "2023-04-26T05:45:22.281913Z",
     "iopub.status.idle": "2023-04-26T05:45:22.609115Z",
     "shell.execute_reply": "2023-04-26T05:45:22.608086Z"
    },
    "papermill": {
     "duration": 0.356144,
     "end_time": "2023-04-26T05:45:22.611449",
     "exception": false,
     "start_time": "2023-04-26T05:45:22.255305",
     "status": "completed"
    },
    "tags": []
   },
   "outputs": [
    {
     "data": {
      "text/plain": [
       "<matplotlib.legend.Legend at 0x779e5c615790>"
      ]
     },
     "execution_count": 18,
     "metadata": {},
     "output_type": "execute_result"
    },
    {
     "data": {
      "image/png": "[encoded data removed]",
      "text/plain": [
       "<Figure size 640x480 with 1 Axes>"
      ]
     },
     "metadata": {},
     "output_type": "display_data"
    }
   ],
   "source": [
    "anomalies_close = anomalies[[\"close\"]].values.flatten()\n",
    "anomalies_close = anomalies_close.reshape(-1, 1) # Reshape to a 2D array\n",
    "anomalies_close = scaler.inverse_transform(anomalies_close)\n",
    "\n",
    "plt.plot(test[TIME_STEPS:].index, \n",
    "         scaler.inverse_transform(test[TIME_STEPS:][[\"close\"]]), \n",
    "         label='close price')\n",
    "\n",
    "# convert it to a 1D array for the plot\n",
    "anomalies_close = anomalies_close.flatten()\n",
    "sns.scatterplot(x=anomalies.index, \n",
    "                y=anomalies_close, \n",
    "                color=sns.color_palette()[3], \n",
    "                label='anomaly'\n",
    "               )\n",
    "\n",
    "plt.xticks(rotation=25) \n",
    "plt.legend()"
   ]
  },
  {
   "cell_type": "markdown",
   "id": "77904511",
   "metadata": {
    "papermill": {
     "duration": 0.025683,
     "end_time": "2023-04-26T05:45:22.663417",
     "exception": false,
     "start_time": "2023-04-26T05:45:22.637734",
     "status": "completed"
    },
    "tags": []
   },
   "source": [
    "#### При ближайшем рассмотрении мы видим, что аномалии, обозначенные красными точками, по-видимому, присутствуют в основном в областях, где происходят внезапные изменения цены закрытия."
   ]
  },
  {
   "cell_type": "markdown",
   "id": "b97d1421",
   "metadata": {},
   "source": [
    "## Этот код полезен для обнаружения аномалий во временных рядах, таких как цены акций, с использованием методов глубокого обучения. "
   ]
  }
 ],
 "metadata": {
  "kernelspec": {
   "display_name": "Python 3 (ipykernel)",
   "language": "python",
   "name": "python3"
  },
  "language_info": {
   "codemirror_mode": {
    "name": "ipython",
    "version": 3
   },
   "file_extension": ".py",
   "mimetype": "text/x-python",
   "name": "python",
   "nbconvert_exporter": "python",
   "pygments_lexer": "ipython3",
   "version": "3.10.9"
  },
  "papermill": {
   "default_parameters": {},
   "duration": 52.88863,
   "end_time": "2023-04-26T05:45:26.308491",
   "environment_variables": {},
   "exception": null,
   "input_path": "__notebook__.ipynb",
   "output_path": "__notebook__.ipynb",
   "parameters": {},
   "start_time": "2023-04-26T05:44:33.419861",
   "version": "2.4.0"
  }
 },
 "nbformat": 4,
 "nbformat_minor": 5
}
